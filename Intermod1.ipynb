{
  "nbformat": 4,
  "nbformat_minor": 0,
  "metadata": {
    "colab": {
      "provenance": [],
      "authorship_tag": "ABX9TyNDI8UN942sIziIFxTalxOu",
      "include_colab_link": true
    },
    "kernelspec": {
      "name": "python3",
      "display_name": "Python 3"
    },
    "language_info": {
      "name": "python"
    }
  },
  "cells": [
    {
      "cell_type": "markdown",
      "metadata": {
        "id": "view-in-github",
        "colab_type": "text"
      },
      "source": [
        "<a href=\"https://colab.research.google.com/github/luizabreu77/Repositorio_Imersao/blob/main/Intermod1.ipynb\" target=\"_parent\"><img src=\"https://colab.research.google.com/assets/colab-badge.svg\" alt=\"Open In Colab\"/></a>"
      ]
    },
    {
      "cell_type": "code",
      "source": [
        "# Código para calcular as possibilidades de combinações de frequências\n",
        "# que possam gerar produtos de intermodulação de 3a. a 9a. ordem em uma determinada frequência.\n",
        "\n",
        "# Lista de frequências de canalização VHF (em MHz) de acordo com as bandas I e III\n",
        "vhf_frequencies = [\n",
        "    # Banda I: Canais 2 a 6\n",
        "    (54, 60),  # Canal 2\n",
        "    (60, 66),  # Canal 3\n",
        "    (66, 72),  # Canal 4\n",
        "    (76, 82),  # Canal 5\n",
        "    (82, 88),  # Canal 6\n",
        "    # Banda III: Canais 7 a 13\n",
        "    (174, 180),  # Canal 7\n",
        "    (180, 186),  # Canal 8\n",
        "    (186, 192),  # Canal 9\n",
        "    (192, 198),  # Canal 10\n",
        "    (198, 204),  # Canal 11\n",
        "    (204, 210),  # Canal 12\n",
        "    (210, 216)   # Canal 13\n",
        "]\n",
        "\n",
        "# Função para gerar todas as frequências centrais dos canais VHF\n",
        "def generate_vhf_center_freqs(vhf_channels):\n",
        "    centers = []\n",
        "    for start, end in vhf_channels:\n",
        "        center = round((start + end) / 2, 1)\n",
        "        centers.append(center)\n",
        "    return centers\n",
        "\n",
        "# Lista de frequências centrais dos canais VHF\n",
        "vhf_center_frequencies = generate_vhf_center_freqs(vhf_frequencies)\n",
        "\n",
        "# Função para encontrar intermodulações que geram 119 MHz com VHF e FM\n",
        "def find_vhf_fm_intermodulations(fm_freqs, vhf_freqs, target, max_order):\n",
        "    results = []\n",
        "    for f1 in fm_freqs:\n",
        "        for f2 in vhf_freqs:\n",
        "            # Testa ordens de 3ª a 9ª\n",
        "            for order in range(3, max_order + 1):\n",
        "                m_values = range(1, order)  # m + n = ordem\n",
        "                for m in m_values:\n",
        "                    n = order - m\n",
        "                    # Calcula as combinações possíveis de intermodulação\n",
        "                    im1 = abs(m * f1 - n * f2)\n",
        "                    im2 = abs(m * f2 - n * f1)\n",
        "                    if round(im1, 1) == target or round(im2, 1) == target:\n",
        "                        results.append({\n",
        "                            'FM Frequency (MHz)': f1,\n",
        "                            'VHF Frequency (MHz)': f2,\n",
        "                            'Order': order,\n",
        "                            'Intermodulation Product (MHz)': target\n",
        "                        })\n",
        "    return pd.DataFrame(results)\n",
        "\n",
        "# Encontrar produtos de intermodulação que resultam em 119 MHz\n",
        "intermod_vhf_fm_results = find_vhf_fm_intermodulations(fm_frequencies, vhf_center_frequencies, 119, 9)\n",
        "\n",
        "tools.display_dataframe_to_user(name=\"Intermodulação entre Frequências FM e TV VHF para 119 MHz\", dataframe=intermod_vhf_fm_results)\n"
      ],
      "metadata": {
        "id": "ndbrqp6IkPJb"
      },
      "execution_count": null,
      "outputs": []
    }
  ]
}
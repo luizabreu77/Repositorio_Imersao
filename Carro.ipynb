{
  "nbformat": 4,
  "nbformat_minor": 0,
  "metadata": {
    "colab": {
      "provenance": [],
      "authorship_tag": "ABX9TyNxi07hh4kBvhFRELdaDcQR",
      "include_colab_link": true
    },
    "kernelspec": {
      "name": "python3",
      "display_name": "Python 3"
    },
    "language_info": {
      "name": "python"
    }
  },
  "cells": [
    {
      "cell_type": "markdown",
      "metadata": {
        "id": "view-in-github",
        "colab_type": "text"
      },
      "source": [
        "<a href=\"https://colab.research.google.com/github/luizabreu77/Repositorio_Imersao/blob/main/Carro.ipynb\" target=\"_parent\"><img src=\"https://colab.research.google.com/assets/colab-badge.svg\" alt=\"Open In Colab\"/></a>"
      ]
    },
    {
      "cell_type": "code",
      "source": [
        "pip install -q -U google-generativeai"
      ],
      "metadata": {
        "colab": {
          "base_uri": "https://localhost:8080/"
        },
        "id": "I6KYHA4mmgbz",
        "outputId": "2c54ab10-a8ca-492a-a3cd-39f0c3f7f75f"
      },
      "execution_count": 15,
      "outputs": [
        {
          "output_type": "stream",
          "name": "stdout",
          "text": [
            "\u001b[2K     \u001b[90m━━━━━━━━━━━━━━━━━━━━━━━━━━━━━━━━━━━━━━━━\u001b[0m \u001b[32m11.6/11.6 MB\u001b[0m \u001b[31m34.6 MB/s\u001b[0m eta \u001b[36m0:00:00\u001b[0m\n",
            "\u001b[?25h"
          ]
        }
      ]
    },
    {
      "cell_type": "code",
      "source": [
        "!pip install -q -U matplotlib"
      ],
      "metadata": {
        "id": "nMN3y7-ctSYe"
      },
      "execution_count": 22,
      "outputs": []
    },
    {
      "cell_type": "code",
      "source": [
        "import time\n",
        "import matplotlib.pyplot as plt"
      ],
      "metadata": {
        "id": "1styX3VcreDE"
      },
      "execution_count": 23,
      "outputs": []
    },
    {
      "cell_type": "code",
      "source": [
        "import google.generativeai as genai\n",
        "from google.colab import userdata\n"
      ],
      "metadata": {
        "id": "NN2YqvyHm2Ta"
      },
      "execution_count": 24,
      "outputs": []
    },
    {
      "cell_type": "code",
      "source": [
        "# Substitua 'YOUR_API_KEY' pela sua chave API real\n",
        "api_key = userdata.get(\"SECRET_KEY\")\n",
        "genai.configure(api_key=api_key)"
      ],
      "metadata": {
        "id": "pyYllPqPm-OF"
      },
      "execution_count": 20,
      "outputs": []
    },
    {
      "cell_type": "code",
      "execution_count": null,
      "metadata": {
        "colab": {
          "base_uri": "https://localhost:8080/",
          "height": 1000
        },
        "id": "3neby-QFl2Ba",
        "outputId": "70ce80b0-8a81-41f7-9d86-d1123dfa32d1"
      },
      "outputs": [
        {
          "output_type": "stream",
          "name": "stdout",
          "text": [
            "🤖 Olá! 👋 Sou um chatbot de manutenção de veículos. Para te ajudar melhor, preciso de algumas informações:\n",
            "Qual o fabricante do seu veículo? 🚗 Renault\n",
            "Qual o modelo? Kwid\n",
            "Qual o ano? 2023\n",
            "Qual a quilometragem atual? 5300\n",
            "\n",
            "---\n",
            "🤖 Olá! 👋 Sou um chatbot de manutenção de veículos. O que você gostaria de fazer hoje?\n",
            "1️⃣ Calcular consumo\n",
            "2️⃣ Controle de manutenção preventiva\n",
            "3️⃣ Histórico do consumo\n",
            "4️⃣ Sair\n",
            "---\n",
            "Digite o número da opção desejada: 3\n",
            "📊 **Histórico de Consumo**\n",
            "Ainda não há dados de consumo suficientes.\n",
            "\n",
            "---\n",
            "🤖 Olá! 👋 Sou um chatbot de manutenção de veículos. O que você gostaria de fazer hoje?\n",
            "1️⃣ Calcular consumo\n",
            "2️⃣ Controle de manutenção preventiva\n",
            "3️⃣ Histórico do consumo\n",
            "4️⃣ Sair\n",
            "---\n",
            "Digite o número da opção desejada: 1\n",
            "🚗💨  **Calculando Consumo**\n",
            "Quantos Km você rodou desde o último abastecimento? 400\n",
            "Quantos litros você abasteceu? 300\n",
            "Qual o preço do litro da gasolina? 5.6\n",
            "⛽ Seu consumo atual é de **1.33 Km/l**. \n",
            "💰 Você gastou **R$1680.00** neste abastecimento.\n",
            "\n",
            "---\n",
            "🤖 Olá! 👋 Sou um chatbot de manutenção de veículos. O que você gostaria de fazer hoje?\n",
            "1️⃣ Calcular consumo\n",
            "2️⃣ Controle de manutenção preventiva\n",
            "3️⃣ Histórico do consumo\n",
            "4️⃣ Sair\n",
            "---\n",
            "Digite o número da opção desejada: 3\n",
            "📊 **Histórico de Consumo**\n"
          ]
        },
        {
          "output_type": "display_data",
          "data": {
            "text/plain": [
              "<Figure size 640x480 with 1 Axes>"
            ],
            "image/png": "[encoded data removed]"
          },
          "metadata": {}
        },
        {
          "output_type": "stream",
          "name": "stdout",
          "text": [
            "\n",
            "---\n",
            "🤖 Olá! 👋 Sou um chatbot de manutenção de veículos. O que você gostaria de fazer hoje?\n",
            "1️⃣ Calcular consumo\n",
            "2️⃣ Controle de manutenção preventiva\n",
            "3️⃣ Histórico do consumo\n",
            "4️⃣ Sair\n",
            "---\n"
          ]
        }
      ],
      "source": [
        "# Configurações do modelo\n",
        "generation_config = {\n",
        "    \"candidate_count\": 1,\n",
        "    \"temperature\": 0.7,\n",
        "}\n",
        "safety_settings = {\n",
        "    \"HARASSMENT\": \"BLOCK_NONE\",\n",
        "    \"HATE\": \"BLOCK_NONE\",\n",
        "    \"DANGEROUS\": \"BLOCK_NONE\",\n",
        "    \"SEXUAL\": \"BLOCK_NONE\"\n",
        "}\n",
        "\n",
        "# Crie o modelo\n",
        "model = genai.GenerativeModel(\n",
        "    model_name=\"gemini-pro\",\n",
        "    generation_config=generation_config,\n",
        "    safety_settings=safety_settings\n",
        ")\n",
        "\n",
        "# Dados do veículo e histórico de consumo\n",
        "veiculo = {}\n",
        "historico_consumo = []\n",
        "\n",
        "def calcular_consumo():\n",
        "    print(\"🚗💨  **Calculando Consumo**\")\n",
        "    km_rodado = float(input(\"Quantos Km você rodou desde o último abastecimento? \"))\n",
        "    litros = float(input(\"Quantos litros você abasteceu? \"))\n",
        "    preco_litro = float(input(\"Qual o preço do litro da gasolina? \"))\n",
        "\n",
        "    consumo = km_rodado / litros\n",
        "    gasto_total = litros * preco_litro\n",
        "\n",
        "    historico_consumo.append(consumo)\n",
        "    if len(historico_consumo) > 5:\n",
        "        historico_consumo.pop(0)\n",
        "\n",
        "    print(f\"⛽ Seu consumo atual é de **{consumo:.2f} Km/l**. \")\n",
        "    print(f\"💰 Você gastou **R${gasto_total:.2f}** neste abastecimento.\")\n",
        "\n",
        "def controle_manutencao():\n",
        "    print(\"🛠️ **Controle de Manutenção**\")\n",
        "    modelo = veiculo.get('modelo')\n",
        "    km_atual = veiculo.get('km')\n",
        "\n",
        "    # Lógica simplificada - idealmente, usar dados reais de intervalos de revisão\n",
        "    if modelo:\n",
        "        if km_atual < 10000:\n",
        "            print(f\"🗓️ Seu **{modelo}** precisa de revisão a cada 10.000 Km. Faltam **{10000 - km_atual} Km**.\")\n",
        "        else:\n",
        "            print(f\"🗓️ Seu **{modelo}** precisa de revisão a cada 10.000 Km. Você está com **{km_atual - 10000} Km** desde a última revisão.\")\n",
        "    else:\n",
        "        print(\"🤔 Preciso saber o modelo do seu veículo para calcular a revisão.\")\n",
        "\n",
        "def mostrar_grafico_consumo():\n",
        "    print(\"📊 **Histórico de Consumo**\")\n",
        "    if historico_consumo:\n",
        "        plt.plot(historico_consumo)\n",
        "        plt.xlabel(\"Abastecimento\")\n",
        "        plt.ylabel(\"Consumo (Km/l)\")\n",
        "        plt.title(\"Histórico de Consumo\")\n",
        "        plt.show()\n",
        "    else:\n",
        "        print(\"Ainda não há dados de consumo suficientes.\")\n",
        "\n",
        "def exibir_menu():\n",
        "    print(\"\\n---\")\n",
        "    print(\"🤖 Olá! 👋 Sou um chatbot de manutenção de veículos. O que você gostaria de fazer hoje?\")\n",
        "    time.sleep(1) # Simula tempo de digitação\n",
        "    print(\"1️⃣ Calcular consumo\")\n",
        "    print(\"2️⃣ Controle de manutenção preventiva\")\n",
        "    print(\"3️⃣ Histórico do consumo\")\n",
        "    print(\"4️⃣ Sair\")\n",
        "    print(\"---\")\n",
        "\n",
        "# Inicie a conversa\n",
        "chat = model.start_chat()\n",
        "\n",
        "print(\"🤖 Olá! 👋 Sou um chatbot de manutenção de veículos. Para te ajudar melhor, preciso de algumas informações:\")\n",
        "veiculo['fabricante'] = input(\"Qual o fabricante do seu veículo? 🚗 \")\n",
        "veiculo['modelo'] = input(\"Qual o modelo? \")\n",
        "veiculo['ano'] = input(\"Qual o ano? \")\n",
        "veiculo['km'] = int(input(\"Qual a quilometragem atual? \"))\n",
        "\n",
        "while True:\n",
        "    exibir_menu()\n",
        "    opcao = input(\"Digite o número da opção desejada: \")\n",
        "\n",
        "    if opcao == '1':\n",
        "        calcular_consumo()\n",
        "    elif opcao == '2':\n",
        "        controle_manutencao()\n",
        "    elif opcao == '3':\n",
        "        mostrar_grafico_consumo()\n",
        "    elif opcao == '4':\n",
        "        print(\"🤖 Até logo! Dirija com segurança. 👋\")\n",
        "        break\n",
        "    else:\n",
        "        print(\"🤖 Opção inválida. Por favor, escolha uma opção válida.\")\n",
        "    time.sleep(1)"
      ]
    }
  ]
}
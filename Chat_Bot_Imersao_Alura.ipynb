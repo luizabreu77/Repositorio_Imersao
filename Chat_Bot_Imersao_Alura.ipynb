{
  "nbformat": 4,
  "nbformat_minor": 0,
  "metadata": {
    "colab": {
      "provenance": [],
      "authorship_tag": "ABX9TyM78CypiP1uosvejdZVjnDL",
      "include_colab_link": true
    },
    "kernelspec": {
      "name": "python3",
      "display_name": "Python 3"
    },
    "language_info": {
      "name": "python"
    }
  },
  "cells": [
    {
      "cell_type": "markdown",
      "metadata": {
        "id": "view-in-github",
        "colab_type": "text"
      },
      "source": [
        "<a href=\"https://colab.research.google.com/github/luizabreu77/Repositorio_Imersao/blob/main/Chat_Bot_Imersao_Alura.ipynb\" target=\"_parent\"><img src=\"https://colab.research.google.com/assets/colab-badge.svg\" alt=\"Open In Colab\"/></a>"
      ]
    },
    {
      "cell_type": "code",
      "execution_count": 1,
      "metadata": {
        "id": "5e0Eg-OVtU3f"
      },
      "outputs": [],
      "source": [
        "pip install -q -U google-generativeai\n"
      ]
    },
    {
      "cell_type": "code",
      "source": [
        "import google.generativeai as genai\n",
        "from google.colab import userdata\n",
        "api_key = userdata.get(\"SECRET_KEY\")\n",
        "genai.configure(api_key=api_key)"
      ],
      "metadata": {
        "id": "flAp1l6Ktixm"
      },
      "execution_count": 22,
      "outputs": []
    },
    {
      "cell_type": "markdown",
      "source": [
        "Listar os modelos disponíveis"
      ],
      "metadata": {
        "id": "_ePTPsPIuMLs"
      }
    },
    {
      "cell_type": "code",
      "source": [
        "for m in genai.list_models():\n",
        "    if 'generateContent' in m.supported_generation_methods:\n",
        "        print(m.name)"
      ],
      "metadata": {
        "colab": {
          "base_uri": "https://localhost:8080/",
          "height": 139
        },
        "id": "sdVF8niVuGlF",
        "outputId": "64ab70c8-905d-4e8a-9b67-107484563cc6"
      },
      "execution_count": 3,
      "outputs": [
        {
          "output_type": "stream",
          "name": "stdout",
          "text": [
            "models/gemini-1.0-pro\n",
            "models/gemini-1.0-pro-001\n",
            "models/gemini-1.0-pro-latest\n",
            "models/gemini-1.0-pro-vision-latest\n",
            "models/gemini-1.5-pro-latest\n",
            "models/gemini-pro\n",
            "models/gemini-pro-vision\n"
          ]
        }
      ]
    },
    {
      "cell_type": "code",
      "source": [
        "generation_config = {\n",
        "    \"candidate_count\": 1,\n",
        "    \"temperature\": 0.9, # Coloca a aleatoriedade do modelo. Quanto maior, mais criativo.\n",
        "}"
      ],
      "metadata": {
        "id": "ae8tqhHXv6uQ"
      },
      "execution_count": 11,
      "outputs": []
    },
    {
      "cell_type": "markdown",
      "source": [
        "Configurações de Segurança"
      ],
      "metadata": {
        "id": "EZdfo98rwoMb"
      }
    },
    {
      "cell_type": "code",
      "source": [
        "safety_settings = {\n",
        "    \"HARASSMENT\": \"BLOCK_NONE\",\n",
        "    \"HATE\": \"BLOCK_NONE\",\n",
        "    \"DANGEROUS\": \"BLOCK_NONE\",\n",
        "    \"SEXUAL\": \"BLOCK_NONE\"\n",
        "}"
      ],
      "metadata": {
        "id": "IXVWo0JXwnSN"
      },
      "execution_count": 12,
      "outputs": []
    },
    {
      "cell_type": "code",
      "source": [
        "model = genai.GenerativeModel(model_name=\"gemini-1.0-pro\",\n",
        "                              generation_config = generation_config,\n",
        "                              safety_settings=safety_settings)"
      ],
      "metadata": {
        "id": "50G65iwYxwWS"
      },
      "execution_count": 13,
      "outputs": []
    },
    {
      "cell_type": "code",
      "source": [
        "response = model.generate_content(\"Vamos aprender conteúdo sobre IA. Dê-me sugestões.\")\n",
        "print(response.text)"
      ],
      "metadata": {
        "colab": {
          "base_uri": "https://localhost:8080/",
          "height": 416
        },
        "id": "qmWj2wLbyobr",
        "outputId": "84484ac2-fe08-4b7d-b4bc-5a837eb2a7a4"
      },
      "execution_count": 14,
      "outputs": [
        {
          "output_type": "stream",
          "name": "stdout",
          "text": [
            "**Cursos Online:**\n",
            "\n",
            "* [Introdução à Inteligência Artificial](https://www.coursera.org/specializations/intro-ai) (Coursera)\n",
            "* [Fundamentos de Aprendizado de Máquina](https://www.coursera.org/specializations/machine-learning) (Coursera)\n",
            "* [Inteligência Artificial para Negócios](https://www.edureka.co/courses/post-graduate-program-in-artificial-intelligence) (edureka)\n",
            "\n",
            "**Livros:**\n",
            "\n",
            "* [Inteligência Artificial: Uma Abordagem Moderna](https://www.amazon.com.br/Intelig%C3%AAncia-Artificial-Stuart-Russell-ebook/dp/B07F75B1FS) por Stuart Russell e Peter Norvig\n",
            "* [Aprendizado de Máquina](https://www.amazon.com.br/Aprendizado-de-M%C3%A1quina-Um-Thomas-Mitchell-ebook/dp/B0742X38QD) por Tom M. Mitchell\n",
            "* [Inteligência Artificial: Uma Guia Introdutiva](https://www.amazon.com.br/Intelig%C3%AAncia-Artificial-guia-introdut%C3%B3ria-ebook/dp/B009V8C9WY) por Melanie Mitchell\n",
            "\n",
            "**Recursos Adicionais:**\n",
            "\n",
            "* [Wiki de Aprendizado de Máquina](https://wiki.machinelearning.org/) (Wikipedia de Aprendizado de Máquina)\n",
            "* [Glossário de IA do Google](https://ai.google/glossario/) (Glossário de IA do Google)\n",
            "* [Comunidade de Pesquisa em Inteligência Artificial do Facebook](https://research.fb.com/category/artificial-intelligence/) (Comunidade de Pesquisa em IA do Facebook)\n",
            "\n",
            "**Canais do YouTube:**\n",
            "\n",
            "* [DeepMind](https://www.youtube.com/channel/UCPirqCdI64h8-15RyIpN3KA)\n",
            "* [MIT OpenCourseWare - Inteligência Artificial](https://www.youtube.com/playlist?list=PLVqKSxHq5rFIGgvUt6liO0y5Y7E3nUfj4)\n",
            "* [Stanford Online - Inteligência Artificial](https://www.youtube.com/playlist?list=PL3FW7Lu3i5Jsnh1rnRwVYm3S21QC_gCs6)\n"
          ]
        }
      ]
    },
    {
      "cell_type": "code",
      "source": [
        "chat = model.start_chat(history=[])"
      ],
      "metadata": {
        "id": "qmny3vcezwkJ"
      },
      "execution_count": 15,
      "outputs": []
    },
    {
      "cell_type": "code",
      "source": [
        "prompt = input(\"Jogue duro:\")\n",
        "\n",
        "while prompt != \"fim\":\n",
        "    response = chat.send_message(prompt)\n",
        "    print(\"Resposta: \",response.text, \"\\n\")\n",
        "    prompt = input(\"Esperando novo prompt: \")"
      ],
      "metadata": {
        "colab": {
          "base_uri": "https://localhost:8080/",
          "height": 86
        },
        "id": "zSumBQr_0NxW",
        "outputId": "a7fc271e-cad6-4616-9c4f-816c67314c16"
      },
      "execution_count": 19,
      "outputs": [
        {
          "name": "stdout",
          "output_type": "stream",
          "text": [
            "Jogue duro:Chegamos ao fim da nossa entrevista?\n",
            "Resposta:  Não necessariamente. Se você tiver mais perguntas sobre o Japão ou qualquer outro assunto, fique à vontade para perguntar. Estou aqui para ajudá-lo da melhor maneira possível. \n",
            "\n",
            "Esperando novo prompt: fim\n"
          ]
        }
      ]
    },
    {
      "cell_type": "code",
      "source": [
        "chat.history\n"
      ],
      "metadata": {
        "colab": {
          "base_uri": "https://localhost:8080/"
        },
        "id": "3eIMhXbCMl_O",
        "outputId": "79c8932e-0c5b-4147-cabe-3b4ef14aaaaa"
      },
      "execution_count": 20,
      "outputs": [
        {
          "output_type": "execute_result",
          "data": {
            "text/plain": [
              "[parts {\n",
              "   text: \"Qual \\303\\251 a Capital do Jap\\303\\243o?\"\n",
              " }\n",
              " role: \"user\",\n",
              " parts {\n",
              "   text: \"T\\303\\263quio\"\n",
              " }\n",
              " role: \"model\",\n",
              " parts {\n",
              "   text: \"Quanto habitantes?\"\n",
              " }\n",
              " role: \"user\",\n",
              " parts {\n",
              "   text: \"Cerca de 13,96 milh\\303\\265es (2023)\"\n",
              " }\n",
              " role: \"model\",\n",
              " parts {\n",
              "   text: \"Qual \\302\\264we a comida t\\303\\255pica desse pa\\303\\255s?\"\n",
              " }\n",
              " role: \"user\",\n",
              " parts {\n",
              "   text: \"Sushi, sashimi, tempura, ramen, udon, soba, onigiri, yakitori, sukiyaki, shabu-shabu\"\n",
              " }\n",
              " role: \"model\",\n",
              " parts {\n",
              "   text: \"Qual \\303\\251 a m\\303\\272sica preferida por l\\303\\241?\"\n",
              " }\n",
              " role: \"user\",\n",
              " parts {\n",
              "   text: \"J-Pop (pop japon\\303\\252s)\"\n",
              " }\n",
              " role: \"model\",\n",
              " parts {\n",
              "   text: \"Qual \\303\\251 o expoente do J-Pop atualmente?\"\n",
              " }\n",
              " role: \"user\",\n",
              " parts {\n",
              "   text: \"Arashi, BTS e Twice\"\n",
              " }\n",
              " role: \"model\",\n",
              " parts {\n",
              "   text: \"Quais as tr\\303\\252s cidades mais populosas?\"\n",
              " }\n",
              " role: \"user\",\n",
              " parts {\n",
              "   text: \"1. T\\303\\263quio\\n2. Osaka\\n3. Nagoya\"\n",
              " }\n",
              " role: \"model\",\n",
              " parts {\n",
              "   text: \"Qual densidade populacional delas?\"\n",
              " }\n",
              " role: \"user\",\n",
              " parts {\n",
              "   text: \"**T\\303\\263quio:** 6.345 habitantes por km\\302\\262\\n**Osaka:** 5.294 habitantes por km\\302\\262\\n**Nagoya:** 4.754 habitantes por km\\302\\262\"\n",
              " }\n",
              " role: \"model\",\n",
              " parts {\n",
              "   text: \"Lemnbra sobre o que est\\303\\241vamos falando?\"\n",
              " }\n",
              " role: \"user\",\n",
              " parts {\n",
              "   text: \"Est\\303\\241vamos falando sobre o Jap\\303\\243o, incluindo sua capital, T\\303\\263quio, sua comida t\\303\\255pica, m\\303\\272sica popular, as tr\\303\\252s cidades mais populosas e suas respectivas densidades populacionais.\"\n",
              " }\n",
              " role: \"model\",\n",
              " parts {\n",
              "   text: \"ASh sim! Vamos continuar.\"\n",
              " }\n",
              " role: \"user\",\n",
              " parts {\n",
              "   text: \"Claro, sobre o que voc\\303\\252 gostaria de saber mais?\"\n",
              " }\n",
              " role: \"model\",\n",
              " parts {\n",
              "   text: \"Qual \\303\\251 a \\303\\241rea ocupada pelo territ\\303\\263rio japon\\303\\252s?\"\n",
              " }\n",
              " role: \"user\",\n",
              " parts {\n",
              "   text: \"Cerca de 377.975 quil\\303\\264metros quadrados (145.937 milhas quadradas)\"\n",
              " }\n",
              " role: \"model\",\n",
              " parts {\n",
              "   text: \"Chegamos ao fim da nossa entrevista?\"\n",
              " }\n",
              " role: \"user\",\n",
              " parts {\n",
              "   text: \"N\\303\\243o necessariamente. Se voc\\303\\252 tiver mais perguntas sobre o Jap\\303\\243o ou qualquer outro assunto, fique \\303\\240 vontade para perguntar. Estou aqui para ajud\\303\\241-lo da melhor maneira poss\\303\\255vel.\"\n",
              " }\n",
              " role: \"model\"]"
            ]
          },
          "metadata": {},
          "execution_count": 20
        }
      ]
    }
  ]
}
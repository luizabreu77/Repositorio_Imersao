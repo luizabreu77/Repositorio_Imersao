{
  "nbformat": 4,
  "nbformat_minor": 0,
  "metadata": {
    "colab": {
      "provenance": [],
      "authorship_tag": "ABX9TyMTzfMOBZ2SMnP/xlHBeC3K",
      "include_colab_link": true
    },
    "kernelspec": {
      "name": "python3",
      "display_name": "Python 3"
    },
    "language_info": {
      "name": "python"
    }
  },
  "cells": [
    {
      "cell_type": "markdown",
      "metadata": {
        "id": "view-in-github",
        "colab_type": "text"
      },
      "source": [
        "<a href=\"https://colab.research.google.com/github/luizabreu77/Repositorio_Imersao/blob/main/Cria_kml.ipynb\" target=\"_parent\"><img src=\"https://colab.research.google.com/assets/colab-badge.svg\" alt=\"Open In Colab\"/></a>"
      ]
    },
    {
      "cell_type": "code",
      "execution_count": null,
      "metadata": {
        "id": "8YnjBaU2qPMH"
      },
      "outputs": [],
      "source": [
        "# Função para criar o conteúdo KML manualmente\n",
        "def create_kml(data):\n",
        "    kml_header = '''<?xml version=\"1.0\" encoding=\"UTF-8\"?>\n",
        "<kml xmlns=\"http://www.opengis.net/kml/2.2\">\n",
        "<Document>\n",
        "'''\n",
        "    kml_footer = '''</Document>\n",
        "</kml>\n",
        "'''\n",
        "    placemarks = \"\"\n",
        "    for _, row in data.iterrows():\n",
        "        placemark = f'''\n",
        "    <Placemark>\n",
        "        <name>{row['Identifier']}</name>\n",
        "        <Point>\n",
        "            <coordinates>{row['Longitude']},{row['Latitude']},0</coordinates>\n",
        "        </Point>\n",
        "    </Placemark>\n",
        "'''\n",
        "        placemarks += placemark\n",
        "\n",
        "    return kml_header + placemarks + kml_footer\n",
        "\n",
        "# Criar o conteúdo KML\n",
        "kml_content = create_kml(kml_data)\n",
        "\n",
        "# Salvar o conteúdo em um arquivo KML\n",
        "kml_file_path = '/mnt/data/pontos.kml'\n",
        "with open(kml_file_path, 'w', encoding='UTF-8') as file:\n",
        "    file.write(kml_content)\n",
        "\n",
        "kml_file_path\n"
      ]
    }
  ]
}